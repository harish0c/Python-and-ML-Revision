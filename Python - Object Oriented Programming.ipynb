{
 "cells": [
  {
   "cell_type": "markdown",
   "id": "da6e7464",
   "metadata": {},
   "source": [
    "Class acts as a template while objects contains variables and values associated with that object"
   ]
  },
  {
   "cell_type": "code",
   "execution_count": 1,
   "id": "7af75d01",
   "metadata": {},
   "outputs": [],
   "source": [
    "#Class creation\n",
    "class Student:\n",
    "    def __init__(self): #initialize\n",
    "        self.name=\"Rahul\""
   ]
  },
  {
   "cell_type": "markdown",
   "id": "d86fe0ed",
   "metadata": {},
   "source": [
    "Here self acts as a placeholder in the class(template)"
   ]
  },
  {
   "cell_type": "code",
   "execution_count": 3,
   "id": "a963c80f",
   "metadata": {},
   "outputs": [
    {
     "name": "stdout",
     "output_type": "stream",
     "text": [
      "<class '__main__.Student'>\n",
      "<__main__.Student object at 0x00000227F309C040>\n",
      "Rahul\n"
     ]
    }
   ],
   "source": [
    "#Object calling\n",
    "s1=Student()\n",
    "\n",
    "print(type(s1))\n",
    "print(s1)\n",
    "print(s1.name)"
   ]
  },
  {
   "cell_type": "code",
   "execution_count": 4,
   "id": "ffba9f4c",
   "metadata": {},
   "outputs": [
    {
     "name": "stdout",
     "output_type": "stream",
     "text": [
      "<class '__main__.Student'>\n",
      "<__main__.Student object at 0x00000227F309CA60>\n",
      "Rahul\n",
      "<__main__.Student object at 0x00000227F309C220>\n"
     ]
    }
   ],
   "source": [
    "#Object calling\n",
    "s1=Student()\n",
    "\n",
    "print(type(s1))\n",
    "print(s1) #prints only the address\n",
    "print(s1.name)#prints the value present in the address\n",
    "\n",
    "s2 = Student()\n",
    "s2.name = \"Rishab\"\n",
    "\n",
    "s3 = Student()\n",
    "s3.name = \"Anil\"\n",
    "print(s3) #prints only the address"
   ]
  },
  {
   "cell_type": "code",
   "execution_count": 5,
   "id": "eb70b3e7",
   "metadata": {},
   "outputs": [],
   "source": [
    "#Class creation with return values\n",
    "class Studentt:\n",
    "    def __init__(self): #initialize\n",
    "        self.name=\"Harish\"\n",
    "        \n",
    "    def __str__(self):\n",
    "        return f\"Student name is {self.name}\""
   ]
  },
  {
   "cell_type": "code",
   "execution_count": 7,
   "id": "71c72eee",
   "metadata": {},
   "outputs": [
    {
     "name": "stdout",
     "output_type": "stream",
     "text": [
      "<class '__main__.Studentt'>\n",
      "Student name is Harish\n",
      "Harish\n",
      "Student name is Rishab\n",
      "Student name is Anil\n"
     ]
    }
   ],
   "source": [
    "#Object calling\n",
    "s1=Studentt()\n",
    "\n",
    "print(type(s1))\n",
    "print(s1) #prints the value with the return statement\n",
    "print(s1.name)#prints the value alone present in the address\n",
    "\n",
    "s2 = Studentt()\n",
    "s2.name = \"Rishab\"\n",
    "print(s2)\n",
    "\n",
    "s3 = Studentt()\n",
    "s3.name = \"Anil\"\n",
    "print(s3) #prints the value with the return statement"
   ]
  },
  {
   "cell_type": "code",
   "execution_count": 8,
   "id": "0000216d",
   "metadata": {},
   "outputs": [
    {
     "name": "stdout",
     "output_type": "stream",
     "text": [
      "Student name is Reejesh\n",
      "Student name is Harish\n"
     ]
    }
   ],
   "source": [
    "#Class and object creation with return values\n",
    "class Student:\n",
    "    def __init__(self,newName): #initialize\n",
    "        self.name= newName\n",
    "        \n",
    "    def __str__(self):\n",
    "        return f\"Student name is {self.name}\"\n",
    "    \n",
    "s1 = Student(\"Reejesh\")\n",
    "print(s1)\n",
    "\n",
    "s2.name=\"Harish\"\n",
    "print(s2)"
   ]
  },
  {
   "cell_type": "code",
   "execution_count": 13,
   "id": "d5bfe814",
   "metadata": {},
   "outputs": [
    {
     "name": "stdout",
     "output_type": "stream",
     "text": [
      "Student name is 1. Harish\n",
      "Student name is 2. Reejesh\n"
     ]
    }
   ],
   "source": [
    "#Class and object creation with return values\n",
    "class Student:\n",
    "    def __init__(self,newName,newRegno): #initialize\n",
    "        self.name= newName\n",
    "        self.reg=newRegno\n",
    "        \n",
    "    def __str__(self):\n",
    "        return f\"Student name is {self.reg}. {self.name}\"\n",
    "    \n",
    "s1 = Student(\"Harish\",1)\n",
    "print(s1)\n",
    "\n",
    "s2 = Student(\"Reejesh\",2)\n",
    "print(s2)"
   ]
  },
  {
   "cell_type": "code",
   "execution_count": 16,
   "id": "864dff34",
   "metadata": {},
   "outputs": [
    {
     "name": "stdout",
     "output_type": "stream",
     "text": [
      "Student name is 0. Harish\n",
      "Student name is 2. Reejesh\n",
      "Student name is 3. Santhosh\n"
     ]
    }
   ],
   "source": [
    "#Class and object creation with default return values\n",
    "class Student:\n",
    "    def __init__(self,newName,newRegno=0): #initialize with default return values\n",
    "        self.name= newName\n",
    "        self.reg=newRegno\n",
    "        \n",
    "    def __str__(self):\n",
    "        return f\"Student name is {self.reg}. {self.name}\"\n",
    "    \n",
    "s1 = Student(\"Harish\")\n",
    "print(s1)\n",
    "\n",
    "s2 = Student(\"Reejesh\",2)\n",
    "print(s2)\n",
    "\n",
    "s3 = Student(\"Santhosh\",3)\n",
    "print(s3)"
   ]
  },
  {
   "cell_type": "code",
   "execution_count": 22,
   "id": "fcdd3423",
   "metadata": {},
   "outputs": [
    {
     "name": "stdout",
     "output_type": "stream",
     "text": [
      "Student name is 1. Harish\n",
      "Student name is 2. Reejesh\n",
      "Student name is 3. Santhosh\n",
      "4\n"
     ]
    }
   ],
   "source": [
    "#Class and object creation with default return values\n",
    "class Studentwithreg:\n",
    "    \n",
    "    rollcount=1\n",
    "    \n",
    "    def __init__(self,newName): \n",
    "        self.name= newName\n",
    "        self.reg=Studentwithreg.rollcount \n",
    "        Studentwithreg.rollcount+=1\n",
    "        \n",
    "    def __str__(self):\n",
    "        return f\"Student name is {self.reg}. {self.name}\"\n",
    "    \n",
    "s1 = Studentwithreg(\"Harish\")\n",
    "print(s1)\n",
    "\n",
    "s2 = Studentwithreg(\"Reejesh\")\n",
    "print(s2)\n",
    "\n",
    "s3 = Studentwithreg(\"Santhosh\")\n",
    "print(s3)\n",
    "\n",
    "print(Studentwithreg.rollcount)"
   ]
  },
  {
   "cell_type": "code",
   "execution_count": null,
   "id": "30e486d4",
   "metadata": {},
   "outputs": [],
   "source": []
  }
 ],
 "metadata": {
  "kernelspec": {
   "display_name": "Python 3 (ipykernel)",
   "language": "python",
   "name": "python3"
  },
  "language_info": {
   "codemirror_mode": {
    "name": "ipython",
    "version": 3
   },
   "file_extension": ".py",
   "mimetype": "text/x-python",
   "name": "python",
   "nbconvert_exporter": "python",
   "pygments_lexer": "ipython3",
   "version": "3.9.7"
  }
 },
 "nbformat": 4,
 "nbformat_minor": 5
}
